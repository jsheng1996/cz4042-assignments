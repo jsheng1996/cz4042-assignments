{
 "cells": [
  {
   "cell_type": "code",
   "execution_count": 25,
   "metadata": {},
   "outputs": [],
   "source": [
    "import tensorflow as tf\n",
    "from tensorflow import keras\n",
    "import numpy as np\n",
    "import matplotlib.pyplot as plt\n",
    "from tensorflow.keras.optimizers import SGD as sgd\n",
    "from tensorflow.keras.regularizers import l2\n",
    "import pandas as pd"
   ]
  },
  {
   "cell_type": "code",
   "execution_count": 3,
   "metadata": {},
   "outputs": [],
   "source": [
    "NUM_CLASSES = 7\n",
    "\n",
    "epochs = 371\n",
    "batch_size = 8\n",
    "num_neurons = 50\n",
    "seed = 10\n",
    "\n",
    "histories={}\n",
    "\n",
    "np.random.seed(seed)\n",
    "tf.random.set_seed(seed)"
   ]
  },
  {
   "cell_type": "code",
   "execution_count": 4,
   "metadata": {},
   "outputs": [],
   "source": [
    "# scale data\n",
    "def scale(X, X_min, X_max):\n",
    "    return (X - X_min)/(X_max-X_min)\n",
    "\n",
    "#read and divide data into test and train sets \n",
    "admit_data = np.genfromtxt('admission_predict.csv', delimiter= ',')\n",
    "X_data, Y_data = admit_data[1:,1:8], admit_data[1:,-1]\n",
    "X_data = scale(X_data, np.min(X_data, axis=0), np.max(X_data, axis=0))\n",
    "Y_data = Y_data.reshape(Y_data.shape[0], 1)\n",
    "\n",
    "idx = np.arange(X_data.shape[0])\n",
    "np.random.shuffle(idx)\n",
    "X_data, Y_data = X_data[idx], Y_data[idx]\n",
    "\n",
    "idx1 = int(len(X_data)*0.7)\n",
    "trainX = X_data[:idx1]\n",
    "trainY = Y_data[:idx1]\n",
    "testX = X_data[idx1:]\n",
    "testY = Y_data[idx1:]\n",
    "\n",
    "trainX = (trainX- np.mean(trainX, axis=0))/ np.std(trainX, axis=0)"
   ]
  },
  {
   "cell_type": "code",
   "execution_count": 12,
   "metadata": {},
   "outputs": [
    {
     "data": {
      "text/plain": [
       "array([[-0.24272496, -0.10923907,  0.04927278, -1.10182046, -0.6613028 ,\n",
       "         0.90453403],\n",
       "       [ 0.25095293,  0.76467348,  0.56024976,  0.556834  ,  0.13704092,\n",
       "         0.90453403],\n",
       "       [-1.23008074, -0.98315162, -0.4617042 ,  0.00394918, -0.91609334,\n",
       "         0.90453403],\n",
       "       ...,\n",
       "       [-1.23008074,  0.76467348, -1.99463514, -1.10182046, -1.28978614,\n",
       "        -1.1055416 ],\n",
       "       [-0.07816567, -0.98315162,  0.04927278,  0.00394918,  0.06909677,\n",
       "         0.90453403],\n",
       "       [-1.23008074, -0.98315162, -0.4617042 , -0.54893564, -1.01800956,\n",
       "        -1.1055416 ]])"
      ]
     },
     "execution_count": 12,
     "metadata": {},
     "output_type": "execute_result"
    }
   ],
   "source": [
    "np.delete(trainX, 4, 1)\n",
    "np.delete(trainX, 0, 1)"
   ]
  },
  {
   "cell_type": "code",
   "execution_count": 13,
   "metadata": {},
   "outputs": [],
   "source": [
    "#4-layer no dropouts\n",
    "model_4_n = keras.Sequential([\n",
    "    keras.layers.Dense(num_neurons, activation='relu', kernel_regularizer=l2(1e-3)),\n",
    "    keras.layers.Dense(num_neurons, activation='relu', kernel_regularizer=l2(1e-3)),\n",
    "    keras.layers.Dense(1)\n",
    "])\n",
    "\n",
    "opt = sgd(learning_rate=1e-3)\n",
    "\n",
    "model_4_n.compile(optimizer=opt,\n",
    "              loss=keras.losses.MeanSquaredError(),\n",
    "              metrics=['mse'])\n"
   ]
  },
  {
   "cell_type": "code",
   "execution_count": 14,
   "metadata": {},
   "outputs": [],
   "source": [
    "# learn the network\n",
    "histories['4-layer-no-dropouts'] =model_4_n.fit(trainX, trainY,\n",
    "                                        epochs=epochs,\n",
    "                                        batch_size=batch_size,\n",
    "                                        validation_data=(testX,testY),\n",
    "                                        verbose = 0)"
   ]
  },
  {
   "cell_type": "code",
   "execution_count": 18,
   "metadata": {},
   "outputs": [],
   "source": [
    "#4-layer with dropouts\n",
    "model_4_y = keras.Sequential([\n",
    "    keras.layers.Dense(num_neurons, activation='relu', kernel_regularizer=l2(1e-3)),\n",
    "    keras.layers.Dropout(0.2),\n",
    "    keras.layers.Dense(num_neurons, activation='relu', kernel_regularizer=l2(1e-3)),\n",
    "    keras.layers.Dropout(0.2),\n",
    "    keras.layers.Dense(1)\n",
    "])\n",
    "\n",
    "opt = sgd(learning_rate=1e-3)\n",
    "\n",
    "model_4_y.compile(optimizer=opt,\n",
    "              loss=keras.losses.MeanSquaredError(),\n",
    "              metrics=['mse'])"
   ]
  },
  {
   "cell_type": "code",
   "execution_count": 19,
   "metadata": {},
   "outputs": [],
   "source": [
    "# learn the network\n",
    "histories['4-layer-with-dropouts'] =model_4_y.fit(trainX, trainY,\n",
    "                                        epochs=epochs,\n",
    "                                        batch_size=batch_size,\n",
    "                                        validation_data=(testX,testY),\n",
    "                                        verbose = 0)"
   ]
  },
  {
   "cell_type": "code",
   "execution_count": 20,
   "metadata": {},
   "outputs": [],
   "source": [
    "#5-layer no dropouts\n",
    "model_5_n = keras.Sequential([\n",
    "    keras.layers.Dense(num_neurons, activation='relu', kernel_regularizer=l2(1e-3)),\n",
    "    keras.layers.Dense(num_neurons, activation='relu', kernel_regularizer=l2(1e-3)),\n",
    "    keras.layers.Dense(num_neurons, activation='relu', kernel_regularizer=l2(1e-3)),\n",
    "    keras.layers.Dense(1)\n",
    "])\n",
    "\n",
    "opt = sgd(learning_rate=1e-3)\n",
    "\n",
    "model_5_n.compile(optimizer=opt,\n",
    "              loss=keras.losses.MeanSquaredError(),\n",
    "              metrics=['mse'])"
   ]
  },
  {
   "cell_type": "code",
   "execution_count": 21,
   "metadata": {},
   "outputs": [],
   "source": [
    "# learn the network\n",
    "histories['5-layer-no-dropouts'] =model_5_n.fit(trainX, trainY,\n",
    "                                        epochs=epochs,\n",
    "                                        batch_size=batch_size,\n",
    "                                        validation_data=(testX,testY),\n",
    "                                        verbose = 0)"
   ]
  },
  {
   "cell_type": "code",
   "execution_count": 22,
   "metadata": {},
   "outputs": [],
   "source": [
    "#5-layer with dropouts\n",
    "model_5_y = keras.Sequential([\n",
    "    keras.layers.Dense(num_neurons, activation='relu', kernel_regularizer=l2(1e-3)),\n",
    "    keras.layers.Dropout(0.2),\n",
    "    keras.layers.Dense(num_neurons, activation='relu', kernel_regularizer=l2(1e-3)),\n",
    "    keras.layers.Dropout(0.2),\n",
    "    keras.layers.Dense(num_neurons, activation='relu', kernel_regularizer=l2(1e-3)),\n",
    "    keras.layers.Dropout(0.2),\n",
    "    keras.layers.Dense(1)\n",
    "])\n",
    "\n",
    "opt = sgd(learning_rate=1e-3)\n",
    "\n",
    "model_5_y.compile(optimizer=opt,\n",
    "              loss=keras.losses.MeanSquaredError(),\n",
    "              metrics=['mse'])"
   ]
  },
  {
   "cell_type": "code",
   "execution_count": 23,
   "metadata": {},
   "outputs": [],
   "source": [
    "# learn the network\n",
    "histories['5-layer-with-dropouts'] =model_5_n.fit(trainX, trainY,\n",
    "                                        epochs=epochs,\n",
    "                                        batch_size=batch_size,\n",
    "                                        validation_data=(testX,testY),\n",
    "                                        verbose = 0)"
   ]
  },
  {
   "cell_type": "code",
   "execution_count": 31,
   "metadata": {},
   "outputs": [],
   "source": [
    "#Base\n",
    "model_base = keras.Sequential([\n",
    "    keras.layers.Dense(30, activation='relu', kernel_regularizer=l2(1e-3)),\n",
    "    keras.layers.Dense(1)\n",
    "])\n",
    "\n",
    "opt = sgd(learning_rate=1e-3)\n",
    "\n",
    "model_base.compile(optimizer=opt,\n",
    "              loss=keras.losses.MeanSquaredError(),\n",
    "              metrics=['mse'])"
   ]
  },
  {
   "cell_type": "code",
   "execution_count": 32,
   "metadata": {},
   "outputs": [],
   "source": [
    "# learn the network\n",
    "histories['base'] =model_base.fit(trainX, trainY,\n",
    "                                        epochs=epochs,\n",
    "                                        batch_size=batch_size,\n",
    "                                        validation_data=(testX,testY),\n",
    "                                        verbose = 0)"
   ]
  },
  {
   "cell_type": "code",
   "execution_count": 24,
   "metadata": {},
   "outputs": [
    {
     "data": {
      "text/html": [
       "<style type=\"text/css\">\n",
       "table.dataframe td, table.dataframe th {\n",
       "    border: 1px  black solid !important;\n",
       "  color: black !important;\n",
       "}\n",
       "</style>\n"
      ],
      "text/plain": [
       "<IPython.core.display.HTML object>"
      ]
     },
     "metadata": {},
     "output_type": "display_data"
    }
   ],
   "source": [
    "%%HTML\n",
    "<style type=\"text/css\">\n",
    "table.dataframe td, table.dataframe th {\n",
    "    border: 1px  black solid !important;\n",
    "  color: black !important;\n",
    "}\n",
    "</style>"
   ]
  },
  {
   "cell_type": "code",
   "execution_count": 33,
   "metadata": {},
   "outputs": [
    {
     "data": {
      "text/html": [
       "<div>\n",
       "<style scoped>\n",
       "    .dataframe tbody tr th:only-of-type {\n",
       "        vertical-align: middle;\n",
       "    }\n",
       "\n",
       "    .dataframe tbody tr th {\n",
       "        vertical-align: top;\n",
       "    }\n",
       "\n",
       "    .dataframe thead th {\n",
       "        text-align: right;\n",
       "    }\n",
       "</style>\n",
       "<table border=\"1\" class=\"dataframe\">\n",
       "  <thead>\n",
       "    <tr style=\"text-align: right;\">\n",
       "      <th></th>\n",
       "      <th>Model</th>\n",
       "      <th>Final Epoch MSE</th>\n",
       "    </tr>\n",
       "  </thead>\n",
       "  <tbody>\n",
       "    <tr>\n",
       "      <th>0</th>\n",
       "      <td>Base</td>\n",
       "      <td>0.011608</td>\n",
       "    </tr>\n",
       "    <tr>\n",
       "      <th>1</th>\n",
       "      <td>4-Layers, no dropouts</td>\n",
       "      <td>0.011122</td>\n",
       "    </tr>\n",
       "    <tr>\n",
       "      <th>2</th>\n",
       "      <td>4-Layers, with dropouts</td>\n",
       "      <td>0.014179</td>\n",
       "    </tr>\n",
       "    <tr>\n",
       "      <th>3</th>\n",
       "      <td>5-Layers, no dropouts</td>\n",
       "      <td>0.013599</td>\n",
       "    </tr>\n",
       "    <tr>\n",
       "      <th>4</th>\n",
       "      <td>5-Layers, with dropouts</td>\n",
       "      <td>0.014855</td>\n",
       "    </tr>\n",
       "  </tbody>\n",
       "</table>\n",
       "</div>"
      ],
      "text/plain": [
       "                     Model  Final Epoch MSE\n",
       "0                     Base         0.011608\n",
       "1    4-Layers, no dropouts         0.011122\n",
       "2  4-Layers, with dropouts         0.014179\n",
       "3    5-Layers, no dropouts         0.013599\n",
       "4  5-Layers, with dropouts         0.014855"
      ]
     },
     "execution_count": 33,
     "metadata": {},
     "output_type": "execute_result"
    }
   ],
   "source": [
    "accuracies=[]\n",
    "accuracies.append((\"Base\",histories[\"base\"].history['val_mse'][-1]))\n",
    "accuracies.append((\"4-Layers, no dropouts\",histories[\"4-layer-no-dropouts\"].history['val_mse'][-1]))\n",
    "accuracies.append((\"4-Layers, with dropouts\",histories[\"4-layer-with-dropouts\"].history['val_mse'][-1]))\n",
    "accuracies.append((\"5-Layers, no dropouts\",histories[\"5-layer-no-dropouts\"].history['val_mse'][-1]))\n",
    "accuracies.append((\"5-Layers, with dropouts\",histories[\"5-layer-with-dropouts\"].history['val_mse'][-1]))\n",
    "df = pd.DataFrame(accuracies, columns=[\"Model\", \"Final Epoch MSE\"])\n",
    "df"
   ]
  },
  {
   "cell_type": "code",
   "execution_count": 36,
   "metadata": {},
   "outputs": [
    {
     "data": {
      "image/png": "[encoded data removed]",
      "text/plain": [
       "<Figure size 432x288 with 1 Axes>"
      ]
     },
     "metadata": {
      "needs_background": "light"
     },
     "output_type": "display_data"
    }
   ],
   "source": [
    "plt.plot(histories['base'].history['val_mse'], label='Base')\n",
    "plt.plot(histories['4-layer-no-dropouts'].history['val_mse'], label='4-Layers, no dropouts')\n",
    "plt.plot(histories['4-layer-with-dropouts'].history['val_mse'], label='4-Layers, with dropouts')\n",
    "plt.plot(histories['5-layer-no-dropouts'].history['val_mse'], label='5-Layers, no dropouts')\n",
    "plt.plot(histories['5-layer-with-dropouts'].history['val_mse'], label='5-Layers, with dropouts')\n",
    "plt.title('Validation MSE vs Epoch')\n",
    "plt.ylabel('mse')\n",
    "plt.xlabel('No. epoch')\n",
    "plt.legend(loc=\"upper right\")\n",
    "plt.show()"
   ]
  },
  {
   "cell_type": "code",
   "execution_count": null,
   "metadata": {},
   "outputs": [],
   "source": []
  }
 ],
 "metadata": {
  "kernelspec": {
   "display_name": "Python 3",
   "language": "python",
   "name": "python3"
  },
  "language_info": {
   "codemirror_mode": {
    "name": "ipython",
    "version": 3
   },
   "file_extension": ".py",
   "mimetype": "text/x-python",
   "name": "python",
   "nbconvert_exporter": "python",
   "pygments_lexer": "ipython3",
   "version": "3.7.9"
  }
 },
 "nbformat": 4,
 "nbformat_minor": 4
}
