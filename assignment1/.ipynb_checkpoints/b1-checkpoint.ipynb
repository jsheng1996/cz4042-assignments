{
 "cells": [
  {
   "cell_type": "code",
   "execution_count": 25,
   "metadata": {},
   "outputs": [],
   "source": [
    "import tensorflow as tf\n",
    "from tensorflow import keras\n",
    "import numpy as np\n",
    "import matplotlib.pyplot as plt\n",
    "from tensorflow.keras.optimizers import SGD as sgd\n",
    "from tensorflow.keras.regularizers import l2"
   ]
  },
  {
   "cell_type": "code",
   "execution_count": 2,
   "metadata": {},
   "outputs": [],
   "source": [
    "NUM_CLASSES = 7\n",
    "\n",
    "epochs = 1000\n",
    "batch_size = 8\n",
    "num_neurons = 30\n",
    "seed = 10\n",
    "\n",
    "histories={}\n",
    "\n",
    "np.random.seed(seed)\n",
    "tf.random.set_seed(seed)"
   ]
  },
  {
   "cell_type": "code",
   "execution_count": 3,
   "metadata": {},
   "outputs": [],
   "source": [
    "# scale data\n",
    "def scale(X, X_min, X_max):\n",
    "    return (X - X_min)/(X_max-X_min)\n",
    "\n",
    "#read and divide data into test and train sets \n",
    "admit_data = np.genfromtxt('admission_predict.csv', delimiter= ',')\n",
    "X_data, Y_data = admit_data[1:,1:8], admit_data[1:,-1]\n",
    "X_data = scale(X_data, np.min(X_data, axis=0), np.max(X_data, axis=0))\n",
    "Y_data = Y_data.reshape(Y_data.shape[0], 1)\n",
    "\n",
    "idx = np.arange(X_data.shape[0])\n",
    "np.random.shuffle(idx)\n",
    "X_data, Y_data = X_data[idx], Y_data[idx]\n",
    "\n",
    "idx1 = int(len(X_data)*0.7)\n",
    "trainX = X_data[:idx1]\n",
    "trainY = Y_data[:idx1]\n",
    "testX = X_data[idx1:]\n",
    "testY = Y_data[idx1:]\n",
    "\n",
    "trainX = (trainX- np.mean(trainX, axis=0))/ np.std(trainX, axis=0)\n",
    "\n",
    "# create a network\n",
    "starter_model = keras.Sequential([\n",
    "    keras.layers.Dense(num_neurons, activation='relu', kernel_regularizer=l2(1e-3)),\n",
    "    keras.layers.Dense(1)\n",
    "])\n",
    "\n",
    "opt = sgd(learning_rate=1e-3)\n",
    "\n",
    "starter_model.compile(optimizer=opt,\n",
    "              loss=keras.losses.MeanSquaredError(),\n",
    "              metrics=['mse'])\n"
   ]
  },
  {
   "cell_type": "code",
   "execution_count": 4,
   "metadata": {},
   "outputs": [],
   "source": [
    "# learn the network\n",
    "histories['starter'] =starter_model.fit(trainX, trainY,\n",
    "                                        epochs=epochs,\n",
    "                                        batch_size=batch_size,\n",
    "                                        validation_data=(testX,testY),\n",
    "                                        verbose = 0)\n"
   ]
  },
  {
   "cell_type": "code",
   "execution_count": 5,
   "metadata": {},
   "outputs": [
    {
     "data": {
      "image/png": "[encoded data removed]",
      "text/plain": [
       "<Figure size 432x288 with 1 Axes>"
      ]
     },
     "metadata": {
      "needs_background": "light"
     },
     "output_type": "display_data"
    }
   ],
   "source": [
    "# plot learning curves\n",
    "plt.plot(histories['starter'].history['mse'], label=' starter model training mse')\n",
    "plt.plot(histories['starter'].history['val_mse'], label=' starter model validation mse')\n",
    "plt.ylabel('mse')\n",
    "plt.xlabel('No. epoch')\n",
    "plt.legend(loc=\"upper right\")\n",
    "plt.show()"
   ]
  },
  {
   "cell_type": "code",
   "execution_count": 6,
   "metadata": {},
   "outputs": [
    {
     "data": {
      "text/plain": [
       "371"
      ]
     },
     "execution_count": 6,
     "metadata": {},
     "output_type": "execute_result"
    }
   ],
   "source": [
    "np.argmin(histories['starter'].history['val_mse'])+1"
   ]
  },
  {
   "cell_type": "code",
   "execution_count": 7,
   "metadata": {},
   "outputs": [],
   "source": [
    "epochs = 371\n",
    "# create a network\n",
    "early_stop_model = keras.Sequential([\n",
    "    keras.layers.Dense(num_neurons, activation='relu', kernel_regularizer=l2(1e-3)),\n",
    "    keras.layers.Dense(1)\n",
    "])\n",
    "\n",
    "opt = sgd(learning_rate=1e-3)\n",
    "\n",
    "early_stop_model.compile(optimizer=opt,\n",
    "              loss=keras.losses.MeanSquaredError(),\n",
    "              metrics=['mse'])\n"
   ]
  },
  {
   "cell_type": "code",
   "execution_count": 8,
   "metadata": {},
   "outputs": [],
   "source": [
    "# learn the network\n",
    "histories['early_stop'] =early_stop_model.fit(trainX, trainY,\n",
    "                                        epochs=epochs,\n",
    "                                        batch_size=batch_size,\n",
    "                                        validation_data=(testX,testY),\n",
    "                                        verbose = 0)\n"
   ]
  },
  {
   "cell_type": "code",
   "execution_count": 10,
   "metadata": {},
   "outputs": [],
   "source": [
    "#Shuffle and choose 50 random samples from test data\n",
    "idx = np.arange(testX.shape[0])\n",
    "np.random.shuffle(idx)\n",
    "testX, testY = testX[idx], testY[idx]\n",
    "x_rand = testX[:50]\n",
    "y_rand = testY[:50]\n",
    "\n",
    "prediction = early_stop_model.predict(x_rand)"
   ]
  },
  {
   "cell_type": "code",
   "execution_count": 24,
   "metadata": {},
   "outputs": [
    {
     "data": {
      "image/png": "[encoded data removed]",
      "text/plain": [
       "<Figure size 432x288 with 1 Axes>"
      ]
     },
     "metadata": {
      "needs_background": "light"
     },
     "output_type": "display_data"
    }
   ],
   "source": [
    "plt.scatter(prediction, y_rand)\n",
    "plt.ylabel('Predicted Values')\n",
    "plt.xlabel('Acutal Values')\n",
    "plt.show()"
   ]
  },
  {
   "cell_type": "code",
   "execution_count": null,
   "metadata": {},
   "outputs": [],
   "source": []
  }
 ],
 "metadata": {
  "kernelspec": {
   "display_name": "Python 3",
   "language": "python",
   "name": "python3"
  },
  "language_info": {
   "codemirror_mode": {
    "name": "ipython",
    "version": 3
   },
   "file_extension": ".py",
   "mimetype": "text/x-python",
   "name": "python",
   "nbconvert_exporter": "python",
   "pygments_lexer": "ipython3",
   "version": "3.7.9"
  }
 },
 "nbformat": 4,
 "nbformat_minor": 4
}
