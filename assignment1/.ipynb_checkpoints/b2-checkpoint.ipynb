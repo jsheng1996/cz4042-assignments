{
 "cells": [
  {
   "cell_type": "code",
   "execution_count": 1,
   "metadata": {},
   "outputs": [],
   "source": [
    "import tensorflow as tf\n",
    "from tensorflow import keras\n",
    "import numpy as np\n",
    "import matplotlib.pyplot as plt\n",
    "from tensorflow.keras.optimizers import SGD as sgd\n",
    "from tensorflow.keras.regularizers import l2\n",
    "from sklearn.feature_selection import RFE\n",
    "from scikeras.wrappers import KerasRegressor"
   ]
  },
  {
   "cell_type": "code",
   "execution_count": 2,
   "metadata": {},
   "outputs": [],
   "source": [
    "NUM_CLASSES = 7\n",
    "\n",
    "epochs = 371\n",
    "batch_size = 8\n",
    "num_neurons = 30\n",
    "seed = 10\n",
    "\n",
    "histories_round_1={}\n",
    "\n",
    "np.random.seed(seed)\n",
    "tf.random.set_seed(seed)"
   ]
  },
  {
   "cell_type": "code",
   "execution_count": 3,
   "metadata": {},
   "outputs": [],
   "source": [
    "#scale data\n",
    "def scale(X, X_min, X_max):\n",
    "    return (X - X_min)/(X_max-X_min)\n",
    "\n",
    "#read and divide data into test and train sets \n",
    "admit_data = np.genfromtxt('admission_predict.csv', delimiter= ',')\n",
    "X_data, Y_data = admit_data[1:,1:8], admit_data[1:,-1]\n",
    "X_data = scale(X_data, np.min(X_data, axis=0), np.max(X_data, axis=0))\n",
    "Y_data = Y_data.reshape(Y_data.shape[0], 1)\n",
    "\n",
    "idx = np.arange(X_data.shape[0])\n",
    "np.random.shuffle(idx)\n",
    "X_data, Y_data = X_data[idx], Y_data[idx]\n",
    "\n",
    "idx1 = int(len(X_data)*0.7)\n",
    "trainX = X_data[:idx1]\n",
    "trainY = Y_data[:idx1]\n",
    "testX = X_data[idx1:]\n",
    "testY = Y_data[idx1:]\n",
    "\n",
    "trainX = (trainX- np.mean(trainX, axis=0))/ np.std(trainX, axis=0)"
   ]
  },
  {
   "cell_type": "code",
   "execution_count": 4,
   "metadata": {},
   "outputs": [],
   "source": [
    "#Remove first input\n",
    "for i in range(7):\n",
    "    \n",
    "    # create a network\n",
    "    starter_model = keras.Sequential([\n",
    "        keras.layers.Dense(units=num_neurons,activation='relu', kernel_regularizer=l2(1e-3)),\n",
    "        keras.layers.Dense(units=1)\n",
    "    ])\n",
    "\n",
    "    opt = sgd(learning_rate=1e-3)\n",
    "\n",
    "    starter_model.compile(optimizer=opt,\n",
    "                    loss=keras.losses.MeanSquaredError(),\n",
    "                    metrics=['mse'])\n",
    "    \n",
    "    x, y = trainX, trainY\n",
    "    np.delete(x,i,1)\n",
    "    # learn the network\n",
    "    histories_round_1[str(i)] =starter_model.fit(x,y,\n",
    "                                        epochs=epochs,\n",
    "                                        batch_size=batch_size,\n",
    "                                        validation_data=(testX,testY),\n",
    "                                        verbose = 0)\n",
    "                                       \n",
    "\n"
   ]
  },
  {
   "cell_type": "code",
   "execution_count": 6,
   "metadata": {},
   "outputs": [
    {
     "name": "stdout",
     "output_type": "stream",
     "text": [
      "0.013298033\n",
      "0.016361317\n",
      "0.018793227\n",
      "0.01271763\n",
      "0.01194668\n",
      "0.019737046\n",
      "0.0135234045\n"
     ]
    }
   ],
   "source": [
    "print(histories_round_1['0'].history['val_mse'][-1])\n",
    "print(histories_round_1['1'].history['val_mse'][-1])\n",
    "print(histories_round_1['2'].history['val_mse'][-1])\n",
    "print(histories_round_1['3'].history['val_mse'][-1])\n",
    "print(histories_round_1['4'].history['val_mse'][-1])\n",
    "print(histories_round_1['5'].history['val_mse'][-1])\n",
    "print(histories_round_1['6'].history['val_mse'][-1])"
   ]
  },
  {
   "cell_type": "code",
   "execution_count": 7,
   "metadata": {},
   "outputs": [
    {
     "data": {
      "text/plain": [
       "array([[-0.78003339, -0.24272496, -0.10923907,  0.04927278, -0.6613028 ,\n",
       "         0.90453403],\n",
       "       [ 0.35388096,  0.25095293,  0.76467348,  0.56024976,  0.13704092,\n",
       "         0.90453403],\n",
       "       [-1.21615429, -1.23008074, -0.98315162, -0.4617042 , -0.91609334,\n",
       "         0.90453403],\n",
       "       ...,\n",
       "       [-1.12893011, -1.23008074,  0.76467348, -1.99463514, -1.28978614,\n",
       "        -1.1055416 ],\n",
       "       [-0.08223994, -0.07816567, -0.98315162,  0.04927278,  0.06909677,\n",
       "         0.90453403],\n",
       "       [-0.95448175, -1.23008074, -0.98315162, -0.4617042 , -1.01800956,\n",
       "        -1.1055416 ]])"
      ]
     },
     "execution_count": 7,
     "metadata": {},
     "output_type": "execute_result"
    }
   ],
   "source": [
    "np.delete(trainX, 4, 1)"
   ]
  },
  {
   "cell_type": "code",
   "execution_count": 8,
   "metadata": {},
   "outputs": [],
   "source": [
    "histories_round_2 = {}\n",
    "#Remove second input\n",
    "for i in range(6):\n",
    "    \n",
    "    # create a network\n",
    "    starter_model = keras.Sequential([\n",
    "        keras.layers.Dense(units=num_neurons,activation='relu', kernel_regularizer=l2(1e-3)),\n",
    "        keras.layers.Dense(units=1)\n",
    "    ])\n",
    "\n",
    "    opt = sgd(learning_rate=1e-3)\n",
    "\n",
    "    starter_model.compile(optimizer=opt,\n",
    "                    loss=keras.losses.MeanSquaredError(),\n",
    "                    metrics=['mse'])\n",
    "    \n",
    "    x, y = trainX, trainY\n",
    "    np.delete(x,i,1)\n",
    "    # learn the network\n",
    "    histories_round_2[str(i)] =starter_model.fit(x,y,\n",
    "                                        epochs=epochs,\n",
    "                                        batch_size=batch_size,\n",
    "                                        validation_data=(testX,testY),\n",
    "                                        verbose = 0)\n",
    "                                       \n",
    "\n"
   ]
  },
  {
   "cell_type": "code",
   "execution_count": 9,
   "metadata": {},
   "outputs": [
    {
     "name": "stdout",
     "output_type": "stream",
     "text": [
      "0.014981138\n",
      "0.010364646\n",
      "0.012940791\n",
      "0.0129352845\n",
      "0.012305949\n",
      "0.020544486\n"
     ]
    }
   ],
   "source": [
    "print(histories_round_2['0'].history['val_mse'][-1])\n",
    "print(histories_round_2['1'].history['val_mse'][-1])\n",
    "print(histories_round_2['2'].history['val_mse'][-1])\n",
    "print(histories_round_2['3'].history['val_mse'][-1])\n",
    "print(histories_round_2['4'].history['val_mse'][-1])\n",
    "print(histories_round_2['5'].history['val_mse'][-1])\n"
   ]
  },
  {
   "cell_type": "code",
   "execution_count": 10,
   "metadata": {},
   "outputs": [
    {
     "data": {
      "text/plain": [
       "array([[-0.24272496, -0.10923907,  0.04927278, -1.10182046, -0.6613028 ,\n",
       "         0.90453403],\n",
       "       [ 0.25095293,  0.76467348,  0.56024976,  0.556834  ,  0.13704092,\n",
       "         0.90453403],\n",
       "       [-1.23008074, -0.98315162, -0.4617042 ,  0.00394918, -0.91609334,\n",
       "         0.90453403],\n",
       "       ...,\n",
       "       [-1.23008074,  0.76467348, -1.99463514, -1.10182046, -1.28978614,\n",
       "        -1.1055416 ],\n",
       "       [-0.07816567, -0.98315162,  0.04927278,  0.00394918,  0.06909677,\n",
       "         0.90453403],\n",
       "       [-1.23008074, -0.98315162, -0.4617042 , -0.54893564, -1.01800956,\n",
       "        -1.1055416 ]])"
      ]
     },
     "execution_count": 10,
     "metadata": {},
     "output_type": "execute_result"
    }
   ],
   "source": [
    "np.delete(trainX, 0, 1)"
   ]
  },
  {
   "cell_type": "code",
   "execution_count": 11,
   "metadata": {},
   "outputs": [],
   "source": [
    "histories_round_3 = {}\n",
    "#Remove third input\n",
    "for i in range(5):\n",
    "    \n",
    "    # create a network\n",
    "    starter_model = keras.Sequential([\n",
    "        keras.layers.Dense(units=num_neurons,activation='relu', kernel_regularizer=l2(1e-3)),\n",
    "        keras.layers.Dense(units=1)\n",
    "    ])\n",
    "\n",
    "    opt = sgd(learning_rate=1e-3)\n",
    "\n",
    "    starter_model.compile(optimizer=opt,\n",
    "                    loss=keras.losses.MeanSquaredError(),\n",
    "                    metrics=['mse'])\n",
    "    \n",
    "    x, y = trainX, trainY\n",
    "    np.delete(x,i,1)\n",
    "    # learn the network\n",
    "    histories_round_3[str(i)] =starter_model.fit(x,y,\n",
    "                                        epochs=epochs,\n",
    "                                        batch_size=batch_size,\n",
    "                                        validation_data=(testX,testY),\n",
    "                                        verbose = 0)\n",
    "                                       \n"
   ]
  },
  {
   "cell_type": "code",
   "execution_count": 12,
   "metadata": {},
   "outputs": [
    {
     "name": "stdout",
     "output_type": "stream",
     "text": [
      "0.023111966\n",
      "0.013106922\n",
      "0.018879712\n",
      "0.014571207\n",
      "0.022129647\n"
     ]
    }
   ],
   "source": [
    "print(histories_round_3['0'].history['val_mse'][-1])\n",
    "print(histories_round_3['1'].history['val_mse'][-1])\n",
    "print(histories_round_3['2'].history['val_mse'][-1])\n",
    "print(histories_round_3['3'].history['val_mse'][-1])\n",
    "print(histories_round_3['4'].history['val_mse'][-1])\n"
   ]
  },
  {
   "cell_type": "code",
   "execution_count": null,
   "metadata": {},
   "outputs": [],
   "source": []
  }
 ],
 "metadata": {
  "kernelspec": {
   "display_name": "Python 3",
   "language": "python",
   "name": "python3"
  },
  "language_info": {
   "codemirror_mode": {
    "name": "ipython",
    "version": 3
   },
   "file_extension": ".py",
   "mimetype": "text/x-python",
   "name": "python",
   "nbconvert_exporter": "python",
   "pygments_lexer": "ipython3",
   "version": "3.7.9"
  }
 },
 "nbformat": 4,
 "nbformat_minor": 4
}
